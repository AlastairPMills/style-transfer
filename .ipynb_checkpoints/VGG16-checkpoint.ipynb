{
 "cells": [
  {
   "cell_type": "code",
   "execution_count": 1,
   "metadata": {
    "scrolled": true
   },
   "outputs": [],
   "source": [
    "import TensorFlow\n",
    "import Python"
   ]
  },
  {
   "cell_type": "code",
   "execution_count": 2,
   "metadata": {},
   "outputs": [],
   "source": [
    "%include \"PythonCheckpointReader.swift\""
   ]
  },
  {
   "cell_type": "code",
   "execution_count": 3,
   "metadata": {},
   "outputs": [],
   "source": [
    "let reader = PythonCheckpointReader(path: \"./vgg_16.ckpt\")"
   ]
  },
  {
   "cell_type": "code",
   "execution_count": 4,
   "metadata": {},
   "outputs": [
    {
     "name": "stdout",
     "output_type": "stream",
     "text": [
      "Name: vgg_16/conv1/conv1_1/weights\r\n"
     ]
    }
   ],
   "source": [
    "let weightTensor = reader.readTensor(layerName: \"vgg_16/conv1\", weightName: \"conv1_1/weights\")"
   ]
  },
  {
   "cell_type": "code",
   "execution_count": 5,
   "metadata": {},
   "outputs": [
    {
     "name": "stdout",
     "output_type": "stream",
     "text": [
      "Name: vgg_16/conv1/conv1_1/biases\r\n"
     ]
    }
   ],
   "source": [
    "let biasTensor = reader.readTensor(layerName: \"vgg_16/conv1\", weightName: \"conv1_1/biases\")"
   ]
  },
  {
   "cell_type": "code",
   "execution_count": 6,
   "metadata": {},
   "outputs": [
    {
     "name": "stdout",
     "output_type": "stream",
     "text": [
      "Name: vgg_16/fc6/weights\r\n"
     ]
    }
   ],
   "source": [
    "let fc6Weights = reader.readTensor(layerName: \"vgg_16/fc6\", weightName: \"weights\")"
   ]
  },
  {
   "cell_type": "code",
   "execution_count": 7,
   "metadata": {},
   "outputs": [
    {
     "name": "stdout",
     "output_type": "stream",
     "text": [
      "TensorShape(dimensions: [3, 3, 3, 64])\n",
      "TensorShape(dimensions: [64])\n",
      "TensorShape(dimensions: [7, 7, 512, 4096])\n"
     ]
    }
   ],
   "source": [
    "print(weightTensor!.shape)\n",
    "print(biasTensor!.shape)\n",
    "print(fc6Weights!.shape)"
   ]
  },
  {
   "cell_type": "code",
   "execution_count": 8,
   "metadata": {},
   "outputs": [],
   "source": [
    "// let np = Python.import(\"numpy\")"
   ]
  },
  {
   "cell_type": "code",
   "execution_count": 10,
   "metadata": {},
   "outputs": [],
   "source": [
    "// var weights = np.load(\"./vgg16_weights.npz\")\n",
    "// let keys = Python.sorted(weights.keys())"
   ]
  },
  {
   "cell_type": "code",
   "execution_count": 11,
   "metadata": {},
   "outputs": [],
   "source": [
    "// print(type(of: weights))"
   ]
  },
  {
   "cell_type": "code",
   "execution_count": 12,
   "metadata": {
    "scrolled": true
   },
   "outputs": [],
   "source": [
    "// for key in keys {\n",
    "//     print(weights[key].shape)\n",
    "// }"
   ]
  },
  {
   "cell_type": "code",
   "execution_count": 13,
   "metadata": {},
   "outputs": [],
   "source": [
    "// let test = Tensor<Float>(numpy: weights[\"conv1_1_W\"])!\n",
    "// print(type(of: test))"
   ]
  },
  {
   "cell_type": "code",
   "execution_count": 12,
   "metadata": {},
   "outputs": [],
   "source": [
    "struct VGG16: Layer {\n",
    "    \n",
    "    var conv1a: Conv2D<Float>// = Conv2D<Float>(filterShape: (3, 3, 3, 64), strides: (1, 1), padding: .same)\n",
    "    var conv1b: Conv2D<Float>// = Conv2D<Float>(filterShape: (3, 3, 64, 64), strides: (1, 1), padding: .same)\n",
    "    \n",
    "    var conv2a: Conv2D<Float>// = Conv2D<Float>(filterShape: (3, 3, 64, 128), strides: (1, 1), padding: .same)\n",
    "    var conv2b: Conv2D<Float>// = Conv2D<Float>(filterShape: (3, 3, 128, 128), strides: (1, 1), padding: .same)\n",
    "    \n",
    "    var conv3a: Conv2D<Float>// = Conv2D<Float>(filterShape: (3, 3, 128, 256), strides: (1, 1), padding: .same)\n",
    "    var conv3b: Conv2D<Float>// = Conv2D<Float>(filterShape: (3, 3, 256, 256), strides: (1, 1), padding: .same)\n",
    "    var conv3c: Conv2D<Float>// = Conv2D<Float>(filterShape: (3, 3, 256, 256), strides: (1, 1), padding: .same)\n",
    "    \n",
    "    var conv4a: Conv2D<Float>// = Conv2D<Float>(filterShape: (3, 3, 256, 512), strides: (1, 1), padding: .same)\n",
    "    var conv4b: Conv2D<Float>// = Conv2D<Float>(filterShape: (3, 3, 512, 512), strides: (1, 1), padding: .same)\n",
    "    var conv4c: Conv2D<Float>// = Conv2D<Float>(filterShape: (3, 3, 512, 512), strides: (1, 1), padding: .same)\n",
    "    \n",
    "    var conv5a: Conv2D<Float>// = Conv2D<Float>(filterShape: (3, 3, 512, 512), strides: (1, 1), padding: .same)\n",
    "    var conv5b: Conv2D<Float>// = Conv2D<Float>(filterShape: (3, 3, 512, 512), strides: (1, 1), padding: .same)\n",
    "    var conv5c: Conv2D<Float>// = Conv2D<Float>(filterShape: (3, 3, 512, 512), strides: (1, 1), padding: .same)\n",
    "        \n",
    "    var maxPool1 = MaxPool2D<Float>(poolSize: (2, 2), strides: (2, 2), padding: .same)\n",
    "    var maxPool2 = MaxPool2D<Float>(poolSize: (2, 2), strides: (2, 2), padding: .same)\n",
    "    var maxPool3 = MaxPool2D<Float>(poolSize: (2, 2), strides: (2, 2), padding: .same)\n",
    "    var maxPool4 = MaxPool2D<Float>(poolSize: (2, 2), strides: (2, 2), padding: .same)\n",
    "    var maxPool5 = MaxPool2D<Float>(poolSize: (2, 2), strides: (2, 2), padding: .same)\n",
    "    var flatten = Flatten<Float>()\n",
    "    \n",
    "    var fc1: Dense<Float>\n",
    "    var fc2: Dense<Float>\n",
    "    var fc3: Dense<Float>\n",
    "    \n",
    "    init(reader: PythonCheckpointReader) {\n",
    "        \n",
    "        let strides = (1, 1)\n",
    "        conv1a = Conv2D(filter: reader.readTensor(layerName: \"vgg_16/conv1\", weightName: \"conv1_1/weights\")!, \n",
    "                        bias: reader.readTensor(layerName: \"vgg_16/conv1\", weightName: \"conv1_1/biases\")!, \n",
    "                        activation: relu,\n",
    "                        strides: strides,\n",
    "                        padding: .same)\n",
    "        \n",
    "        conv1b = Conv2D(filter: reader.readTensor(layerName: \"vgg_16/conv1\", weightName: \"conv1_2/weights\")!, \n",
    "                        bias: reader.readTensor(layerName: \"vgg_16/conv1\", weightName: \"conv1_2/biases\")!, \n",
    "                        activation: relu,\n",
    "                        strides: strides,\n",
    "                        padding: .same).withoutDerivative()\n",
    "\n",
    "// Layer 2\n",
    "        conv2a = Conv2D(filter: reader.readTensor(layerName: \"vgg_16/conv2\", weightName: \"conv2_1/weights\")!, \n",
    "                        bias: reader.readTensor(layerName: \"vgg_16/conv2\", weightName: \"conv2_1/biases\")!, \n",
    "                        activation: relu,\n",
    "                        strides: strides,\n",
    "                        padding: .same)\n",
    "        \n",
    "        conv2b = Conv2D(filter: reader.readTensor(layerName: \"vgg_16/conv2\", weightName: \"conv2_2/weights\")!, \n",
    "                        bias: reader.readTensor(layerName: \"vgg_16/conv2\", weightName: \"conv2_2/biases\")!, \n",
    "                        activation: relu,\n",
    "                        strides: strides,\n",
    "                        padding: .same)\n",
    "        \n",
    "// Layer 3\n",
    "        conv3a = Conv2D(filter: reader.readTensor(layerName: \"vgg_16/conv3\", weightName: \"conv3_1/weights\")!, \n",
    "                        bias: reader.readTensor(layerName: \"vgg_16/conv3\", weightName: \"conv3_1/biases\")!, \n",
    "                        activation: relu,\n",
    "                        strides: strides,\n",
    "                        padding: .same)\n",
    "        \n",
    "        conv3b = Conv2D(filter: reader.readTensor(layerName: \"vgg_16/conv3\", weightName: \"conv3_2/weights\")!, \n",
    "                        bias: reader.readTensor(layerName: \"vgg_16/conv3\", weightName: \"conv3_2/biases\")!, \n",
    "                        activation: relu,\n",
    "                        strides: strides,\n",
    "                        padding: .same)\n",
    "        \n",
    "        conv3c = Conv2D(filter: reader.readTensor(layerName: \"vgg_16/conv3\", weightName: \"conv3_3/weights\")!, \n",
    "                        bias: reader.readTensor(layerName: \"vgg_16/conv3\", weightName: \"conv3_3/biases\")!, \n",
    "                        activation: relu,\n",
    "                        strides: strides,\n",
    "                        padding: .same)\n",
    "        \n",
    "// Layer 4\n",
    "        conv4a = Conv2D(filter: reader.readTensor(layerName: \"vgg_16/conv4\", weightName: \"conv4_1/weights\")!, \n",
    "                        bias: reader.readTensor(layerName: \"vgg_16/conv4\", weightName: \"conv4_1/biases\")!, \n",
    "                        activation: relu,\n",
    "                        strides: strides,\n",
    "                        padding: .same)\n",
    "        \n",
    "        conv4b = Conv2D(filter: reader.readTensor(layerName: \"vgg_16/conv4\", weightName: \"conv4_2/weights\")!, \n",
    "                        bias: reader.readTensor(layerName: \"vgg_16/conv4\", weightName: \"conv4_2/biases\")!, \n",
    "                        activation: relu,\n",
    "                        strides: strides,\n",
    "                        padding: .same)\n",
    "        \n",
    "        conv4c = Conv2D(filter: reader.readTensor(layerName: \"vgg_16/conv4\", weightName: \"conv4_3/weights\")!, \n",
    "                        bias: reader.readTensor(layerName: \"vgg_16/conv4\", weightName: \"conv4_3/biases\")!, \n",
    "                        activation: relu,\n",
    "                        strides: strides,\n",
    "                        padding: .same)\n",
    "// Layer 5\n",
    "        \n",
    "        conv5a = Conv2D(filter: reader.readTensor(layerName: \"vgg_16/conv5\", weightName: \"conv5_1/weights\")!, \n",
    "                        bias: reader.readTensor(layerName: \"vgg_16/conv5\", weightName: \"conv5_1/biases\")!, \n",
    "                        activation: relu,\n",
    "                        strides: strides,\n",
    "                        padding: .same)\n",
    "        \n",
    "        conv5b = Conv2D(filter: reader.readTensor(layerName: \"vgg_16/conv5\", weightName: \"conv5_2/weights\")!, \n",
    "                        bias: reader.readTensor(layerName: \"vgg_16/conv5\", weightName: \"conv5_2/biases\")!, \n",
    "                        activation: relu,\n",
    "                        strides: strides,\n",
    "                        padding: .same)\n",
    "        \n",
    "        conv5c = Conv2D(filter: reader.readTensor(layerName: \"vgg_16/conv5\", weightName: \"conv5_3/weights\")!, \n",
    "                        bias: reader.readTensor(layerName: \"vgg_16/conv5\", weightName: \"conv5_3/biases\")!, \n",
    "                        activation: relu,\n",
    "                        strides: strides,\n",
    "                        padding: .same)\n",
    "\n",
    "// Layer 6\n",
    "        fc1 = Dense(weight: reader.readTensor(layerName: \"vgg_16/fc6\", weightName: \"weights\")!\n",
    "                    .reshaped(to: [25088, 4096]), \n",
    "                    bias: reader.readTensor(layerName: \"vgg_16/fc6\", weightName: \"biases\")!, \n",
    "                    activation: relu)\n",
    "        \n",
    "        fc2 = Dense(weight: reader.readTensor(layerName: \"vgg_16/fc7\", weightName: \"weights\")!\n",
    "                    .reshaped(to:[4096, 4096]), \n",
    "                    bias: reader.readTensor(layerName: \"vgg_16/fc7\", weightName: \"biases\")!, \n",
    "                    activation: relu)\n",
    "        \n",
    "        fc3 = Dense(weight: reader.readTensor(layerName: \"vgg_16/fc8\", weightName: \"weights\")!\n",
    "                    .reshaped(to:[4096, 1000]), \n",
    "                    bias: reader.readTensor(layerName: \"vgg_16/fc8\", weightName: \"biases\")!, \n",
    "                    activation: softmax)\n",
    "    }\n",
    "    \n",
    "    @differentiable\n",
    "    func applied(to input: Tensor<Float>, in context: Context) -> Tensor<Float> {\n",
    "        var tmp = input\n",
    "        // Layer 1\n",
    "        tmp = conv1a.applied(to: tmp, in: context)\n",
    "        print(tmp.shape)\n",
    "        \n",
    "        tmp = conv1b.applied(to: tmp, in: context)\n",
    "        print(tmp.shape)\n",
    "        \n",
    "        tmp = maxPool1.applied(to: tmp, in: context)\n",
    "        print(tmp.shape)\n",
    "        \n",
    "        // Layer 2\n",
    "        tmp = conv2a.applied(to: tmp, in: context)\n",
    "        print(tmp.shape)\n",
    "        \n",
    "        tmp = conv2b.applied(to: tmp, in: context)\n",
    "        print(tmp.shape)\n",
    "        \n",
    "        tmp = maxPool2.applied(to: tmp, in: context)\n",
    "        print(tmp.shape)\n",
    "        \n",
    "        // Layer 3\n",
    "        tmp = conv3a.applied(to: tmp, in: context)\n",
    "        print(tmp.shape)\n",
    "        \n",
    "        tmp = conv3b.applied(to: tmp, in: context)\n",
    "        print(tmp.shape)\n",
    "        \n",
    "        tmp = conv3c.applied(to: tmp, in: context)\n",
    "        print(tmp.shape)\n",
    "        \n",
    "        tmp = maxPool3.applied(to: tmp, in: context)\n",
    "        print(tmp.shape)\n",
    "        \n",
    "        // Layer 4\n",
    "        tmp = conv4a.applied(to: tmp, in: context)\n",
    "        print(tmp.shape)\n",
    "        \n",
    "        tmp = conv4b.applied(to: tmp, in: context)\n",
    "        print(tmp.shape)\n",
    "        \n",
    "        tmp = conv4c.applied(to: tmp, in: context)\n",
    "        print(tmp.shape)\n",
    "        \n",
    "        tmp = maxPool4.applied(to: tmp, in: context)\n",
    "        print(tmp.shape)\n",
    "        \n",
    "        // Layer 5\n",
    "        tmp = conv5a.applied(to: tmp, in: context)\n",
    "        print(tmp.shape)\n",
    "        \n",
    "        tmp = conv5b.applied(to: tmp, in: context)\n",
    "        print(tmp.shape)\n",
    "        \n",
    "        tmp = conv5c.applied(to: tmp, in: context)\n",
    "        print(tmp.shape)\n",
    "        \n",
    "        tmp = maxPool5.applied(to: tmp, in: context)\n",
    "        print(tmp.shape)\n",
    "        \n",
    "        tmp = flatten.applied(to: tmp, in: context)\n",
    "        print(tmp.shape)\n",
    "        \n",
    "        // Layer 6\n",
    "        tmp = fc1.applied(to: tmp, in: context)\n",
    "        print(tmp.shape)\n",
    "        \n",
    "        // Layer 7\n",
    "        tmp = fc2.applied(to: tmp, in: context)\n",
    "        print(tmp.shape)\n",
    "        \n",
    "        // Layer 8\n",
    "        tmp = fc3.applied(to: tmp, in: context)\n",
    "        print(tmp.shape)\n",
    "        \n",
    "        return tmp\n",
    "    }\n",
    "}\n"
   ]
  },
  {
   "cell_type": "code",
   "execution_count": 14,
   "metadata": {},
   "outputs": [
    {
     "name": "stdout",
     "output_type": "stream",
     "text": [
      "Name: vgg_16/conv1/conv1_1/weights\n",
      "Name: vgg_16/conv1/conv1_1/biases\n",
      "Name: vgg_16/conv1/conv1_2/weights\n",
      "Name: vgg_16/conv1/conv1_2/biases\n",
      "Name: vgg_16/conv2/conv2_1/weights\n",
      "Name: vgg_16/conv2/conv2_1/biases\n",
      "Name: vgg_16/conv2/conv2_2/weights\n",
      "Name: vgg_16/conv2/conv2_2/biases\n",
      "Name: vgg_16/conv3/conv3_1/weights\n",
      "Name: vgg_16/conv3/conv3_1/biases\n",
      "Name: vgg_16/conv3/conv3_2/weights\n",
      "Name: vgg_16/conv3/conv3_2/biases\n",
      "Name: vgg_16/conv3/conv3_3/weights\n",
      "Name: vgg_16/conv3/conv3_3/biases\n",
      "Name: vgg_16/conv4/conv4_1/weights\n",
      "Name: vgg_16/conv4/conv4_1/biases\n",
      "Name: vgg_16/conv4/conv4_2/weights\n",
      "Name: vgg_16/conv4/conv4_2/biases\n",
      "Name: vgg_16/conv4/conv4_3/weights\n",
      "Name: vgg_16/conv4/conv4_3/biases\n",
      "Name: vgg_16/conv5/conv5_1/weights\n",
      "Name: vgg_16/conv5/conv5_1/biases\n",
      "Name: vgg_16/conv5/conv5_2/weights\n",
      "Name: vgg_16/conv5/conv5_2/biases\n",
      "Name: vgg_16/conv5/conv5_3/weights\n",
      "Name: vgg_16/conv5/conv5_3/biases\n",
      "Name: vgg_16/fc6/weights\n",
      "Name: vgg_16/fc6/biases\n",
      "Name: vgg_16/fc7/weights\n",
      "Name: vgg_16/fc7/biases\n",
      "Name: vgg_16/fc8/weights\n",
      "Name: vgg_16/fc8/biases\n"
     ]
    }
   ],
   "source": [
    "var model = VGG16(reader: reader)"
   ]
  },
  {
   "cell_type": "code",
   "execution_count": 15,
   "metadata": {},
   "outputs": [
    {
     "name": "stdout",
     "output_type": "stream",
     "text": [
      "TensorShape(dimensions: [3, 3, 3, 64])\r\n",
      "TensorShape(dimensions: [3, 3, 64, 64])\r\n",
      "TensorShape(dimensions: [3, 3, 64, 128])\r\n",
      "TensorShape(dimensions: [3, 3, 128, 128])\r\n",
      "TensorShape(dimensions: [3, 3, 128, 256])\r\n",
      "TensorShape(dimensions: [3, 3, 256, 256])\r\n",
      "TensorShape(dimensions: [3, 3, 256, 256])\r\n",
      "TensorShape(dimensions: [3, 3, 256, 512])\r\n",
      "TensorShape(dimensions: [3, 3, 512, 512])\r\n",
      "TensorShape(dimensions: [3, 3, 512, 512])\r\n",
      "TensorShape(dimensions: [3, 3, 512, 512])\r\n",
      "TensorShape(dimensions: [3, 3, 512, 512])\r\n",
      "TensorShape(dimensions: [3, 3, 512, 512])\r\n",
      "TensorShape(dimensions: [25088, 4096])\r\n",
      "TensorShape(dimensions: [4096, 4096])\r\n",
      "TensorShape(dimensions: [4096, 1000])\r\n"
     ]
    }
   ],
   "source": [
    "print(model.conv1a.filter.shape)\n",
    "print(model.conv1b.filter.shape)\n",
    "\n",
    "print(model.conv2a.filter.shape)\n",
    "print(model.conv2b.filter.shape)\n",
    "\n",
    "print(model.conv3a.filter.shape)\n",
    "print(model.conv3b.filter.shape)\n",
    "print(model.conv3c.filter.shape)\n",
    "\n",
    "print(model.conv4a.filter.shape)\n",
    "print(model.conv4b.filter.shape)\n",
    "print(model.conv4c.filter.shape)\n",
    "\n",
    "print(model.conv5a.filter.shape)\n",
    "print(model.conv5b.filter.shape)\n",
    "print(model.conv5c.filter.shape)\n",
    "\n",
    "print(model.fc1.weight.shape)\n",
    "print(model.fc2.weight.shape)\n",
    "print(model.fc3.weight.shape)"
   ]
  },
  {
   "cell_type": "code",
   "execution_count": 16,
   "metadata": {},
   "outputs": [
    {
     "name": "stdout",
     "output_type": "stream",
     "text": [
      "[[   0.0033880314,    0.0050432906,   -0.0032624018, ...,    -0.005848984,\r\n",
      "    -0.0031546627,     0.013666263],\r\n",
      " [   -0.007958768,     -0.00110815,   -0.0019720597, ...,    -0.008417909,\r\n",
      "    -0.0045207497,    -0.004639767],\r\n",
      " [  0.00034270692,     0.006964934,   -0.0025695772, ...,   -0.0068014245,\r\n",
      "     0.0058326353,     0.002270005],\r\n",
      " ...,\r\n",
      " [  -0.0016663822,     0.012099874,   -0.0023506768, ...,    0.0022026666,\r\n",
      "     -0.013473324,     -0.01866422],\r\n",
      " [  -0.0062950654,    0.0007815085,    -0.007078296, ...,     0.016285196,\r\n",
      "    -0.0012128999,    -0.009633069],\r\n",
      " [  -0.0033095223,     0.007069617,   -0.0122333765, ...,   -0.0061606774,\r\n",
      "     -0.006587355,     0.014275627]]\r\n"
     ]
    }
   ],
   "source": [
    "print(model.fc3.weight)"
   ]
  },
  {
   "cell_type": "code",
   "execution_count": 17,
   "metadata": {},
   "outputs": [],
   "source": [
    "let Image = Python.import(\"PIL.Image\")"
   ]
  },
  {
   "cell_type": "code",
   "execution_count": 18,
   "metadata": {},
   "outputs": [],
   "source": [
    "let np = Python.import(\"numpy\")"
   ]
  },
  {
   "cell_type": "code",
   "execution_count": 19,
   "metadata": {},
   "outputs": [],
   "source": [
    "func resizeImage(filename: StringTensor, size: (Int32, Int32)) -> Tensor<Float> {\n",
    "    let imageBytes: StringTensor = Raw.readFile(filename: filename)\n",
    "    let decodedImage = Raw.decodeJpeg(contents: imageBytes, channels: 3, dctMethod: \"\") \n",
    "    let resizedImages = Raw.resizeBicubic(\n",
    "        images: Tensor<UInt8>([decodedImage]), \n",
    "        size: Tensor<Int32>([size.0, size.1]))\n",
    "    return resizedImages.reshaped(to: TensorShape(size.0, size.1, 3))\n",
    "}"
   ]
  },
  {
   "cell_type": "code",
   "execution_count": 24,
   "metadata": {},
   "outputs": [],
   "source": [
    "let testImageTensor = resizeImage(filename: StringTensor(\"./sandbar.jpg\"), size: (224, 224))"
   ]
  },
  {
   "cell_type": "code",
   "execution_count": 25,
   "metadata": {},
   "outputs": [
    {
     "name": "stdout",
     "output_type": "stream",
     "text": [
      "TensorShape(dimensions: [224, 224, 3])\r\n"
     ]
    }
   ],
   "source": [
    "print(testImageTensor.shape)"
   ]
  },
  {
   "cell_type": "code",
   "execution_count": 26,
   "metadata": {},
   "outputs": [
    {
     "data": {
      "text/plain": [
       "('inline', 'module://ipykernel.pylab.backend_inline')\n"
      ]
     },
     "execution_count": 26,
     "metadata": {},
     "output_type": "execute_result"
    }
   ],
   "source": [
    "// Setup.\n",
    "%include \"EnableIPythonDisplay.swift\"\n",
    "IPythonDisplay.shell.enable_matplotlib(\"inline\")\n",
    "let plt = Python.import(\"matplotlib.pyplot\")\n",
    "IPythonDisplay.shell.enable_matplotlib(\"inline\")"
   ]
  },
  {
   "cell_type": "code",
   "execution_count": 27,
   "metadata": {
    "scrolled": true
   },
   "outputs": [
    {
     "data": {
      "image/png": "[encoded data removed]",
      "text/plain": [
       "<matplotlib.figure.Figure at 0x7f3019213400>"
      ]
     },
     "metadata": {
      "needs_background": "light"
     },
     "output_type": "display_data"
    },
    {
     "data": {
      "text/plain": [
       "None\n"
      ]
     },
     "execution_count": 27,
     "metadata": {},
     "output_type": "execute_result"
    }
   ],
   "source": [
    "plt.imshow(Tensor<UInt8>(testImageTensor).makeNumpyArray())\n",
    "plt.show()"
   ]
  },
  {
   "cell_type": "code",
   "execution_count": 28,
   "metadata": {},
   "outputs": [],
   "source": [
    "// TF Format: NHWC\n",
    "// PIL Format: WHC\n",
    "let mean = Tensor<Float>([103.939, 116.78, 123.68])\n",
    "let std  = Tensor<Float>([0.229, 0.224, 0.225])\n",
    "let imagesNormalized = ((testImageTensor) - mean)\n",
    "let testImageBatch = imagesNormalized.expandingShape(at: 0)"
   ]
  },
  {
   "cell_type": "code",
   "execution_count": 29,
   "metadata": {},
   "outputs": [
    {
     "name": "stdout",
     "output_type": "stream",
     "text": [
      "TensorShape(dimensions: [1, 224, 224, 3])\r\n"
     ]
    }
   ],
   "source": [
    "print(testImageBatch.shape)"
   ]
  },
  {
   "cell_type": "code",
   "execution_count": 30,
   "metadata": {
    "scrolled": true
   },
   "outputs": [
    {
     "name": "stdout",
     "output_type": "stream",
     "text": [
      "TensorShape(dimensions: [1, 224, 224, 64])\n",
      "TensorShape(dimensions: [1, 224, 224, 64])\n",
      "TensorShape(dimensions: [1, 112, 112, 64])\n",
      "TensorShape(dimensions: [1, 112, 112, 128])\n",
      "TensorShape(dimensions: [1, 112, 112, 128])\n",
      "TensorShape(dimensions: [1, 56, 56, 128])\n",
      "TensorShape(dimensions: [1, 56, 56, 256])\n",
      "TensorShape(dimensions: [1, 56, 56, 256])\n",
      "TensorShape(dimensions: [1, 56, 56, 256])\n",
      "TensorShape(dimensions: [1, 28, 28, 256])\n",
      "TensorShape(dimensions: [1, 28, 28, 512])\n",
      "TensorShape(dimensions: [1, 28, 28, 512])\n",
      "TensorShape(dimensions: [1, 28, 28, 512])\n",
      "TensorShape(dimensions: [1, 14, 14, 512])\n",
      "TensorShape(dimensions: [1, 14, 14, 512])\n",
      "TensorShape(dimensions: [1, 14, 14, 512])\n",
      "TensorShape(dimensions: [1, 14, 14, 512])\n",
      "TensorShape(dimensions: [1, 7, 7, 512])\n",
      "TensorShape(dimensions: [1, 25088])\n",
      "TensorShape(dimensions: [1, 4096])\n",
      "TensorShape(dimensions: [1, 4096])\n",
      "TensorShape(dimensions: [1, 1000])\n"
     ]
    }
   ],
   "source": [
    "let context = Context(learningPhase: .inference)\n",
    "let logits = model.applied(to: testImageBatch, in: context)"
   ]
  },
  {
   "cell_type": "code",
   "execution_count": 31,
   "metadata": {},
   "outputs": [
    {
     "name": "stdout",
     "output_type": "stream",
     "text": [
      "[977]\r\n"
     ]
    }
   ],
   "source": [
    "print(logits.argmax(squeezingAxis: 1))"
   ]
  },
  {
   "cell_type": "code",
   "execution_count": null,
   "metadata": {},
   "outputs": [],
   "source": []
  }
 ],
 "metadata": {
  "kernelspec": {
   "display_name": "Swift",
   "language": "swift",
   "name": "swift"
  },
  "language_info": {
   "file_extension": ".swift",
   "mimetype": "text/x-swift",
   "name": "swift",
   "version": ""
  }
 },
 "nbformat": 4,
 "nbformat_minor": 2
}
